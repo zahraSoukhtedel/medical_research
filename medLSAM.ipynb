{
  "cells": [
    {
      "cell_type": "markdown",
      "source": [
        "## Create a virtual environment"
      ],
      "metadata": {
        "id": "WYA32OkefQYv"
      }
    },
    {
      "cell_type": "code",
      "execution_count": null,
      "metadata": {
        "id": "xxwGUE9wqQAJ"
      },
      "outputs": [],
      "source": [
        "!pip install -q condacolab\n",
        "import condacolab\n",
        "condacolab.install()"
      ]
    },
    {
      "cell_type": "code",
      "execution_count": null,
      "metadata": {
        "id": "a-UMHtlsqQ8v"
      },
      "outputs": [],
      "source": [
        "!conda create -n medlsam python=3.10 -y"
      ]
    },
    {
      "cell_type": "code",
      "execution_count": null,
      "metadata": {
        "id": "bSqcjd53rF6L"
      },
      "outputs": [],
      "source": [
        "!conda activate medlsam"
      ]
    },
    {
      "cell_type": "code",
      "source": [
        "!pip install opencv-python\n",
        "!pip install tqdm\n",
        "!pip install nibabel\n",
        "!pip install scipy\n",
        "!pip install SimpleITK\n",
        "!pip install monai\n",
        "!pip install torch torchvision\n",
        "!apt-get install p7zip-full\n",
        "!pip install py7zr"
      ],
      "metadata": {
        "id": "dsiKloyKcxuZ"
      },
      "execution_count": null,
      "outputs": []
    },
    {
      "cell_type": "code",
      "source": [
        "import tqdm\n",
        "import nibabel\n",
        "import scipy\n",
        "import SimpleITK\n",
        "import monai\n",
        "import cv2\n",
        "import torch\n",
        "import py7zr"
      ],
      "metadata": {
        "id": "wb33Y74OdM2q"
      },
      "execution_count": null,
      "outputs": []
    },
    {
      "cell_type": "code",
      "execution_count": null,
      "metadata": {
        "id": "wemdma0kqvT-"
      },
      "outputs": [],
      "source": [
        "from google.colab import drive\n",
        "drive.mount('/content/drive')"
      ]
    },
    {
      "cell_type": "markdown",
      "source": [
        "##installation"
      ],
      "metadata": {
        "id": "iGGZ7d2FfkdN"
      }
    },
    {
      "cell_type": "code",
      "execution_count": null,
      "metadata": {
        "id": "soKyJDulq1qk"
      },
      "outputs": [],
      "source": [
        "!git clone https://github.com/openmedlab/MedLSAM.git"
      ]
    },
    {
      "cell_type": "code",
      "source": [
        "%cd /content/MedLSAM/MedSAM\n",
        "!pip install -e ."
      ],
      "metadata": {
        "id": "iXcb0U7Ltcvd"
      },
      "execution_count": null,
      "outputs": []
    },
    {
      "cell_type": "markdown",
      "source": [
        "##Download Models"
      ],
      "metadata": {
        "id": "wgen852CfNKK"
      }
    },
    {
      "cell_type": "code",
      "source": [
        "!cp \"/content/drive/MyDrive/models/sam_vit_b_01ec64.pth\" \"/content/MedLSAM/checkpoint/\"\n",
        "!cp \"/content/drive/MyDrive/models/medsam_vit_b.pth\" \"/content/MedLSAM/checkpoint/\"\n",
        "!cp \"/content/drive/MyDrive/models/medlam.pth\" \"/content/MedLSAM/checkpoint/\""
      ],
      "metadata": {
        "id": "4PNNCB6ytvGQ"
      },
      "execution_count": null,
      "outputs": []
    },
    {
      "cell_type": "markdown",
      "source": [
        "# Download dataset and unzip"
      ],
      "metadata": {
        "id": "15QB6okEfE7F"
      }
    },
    {
      "cell_type": "code",
      "source": [
        "%cd \"/content/MedLSAM/config/data/\"\n",
        "!mkdir Task1_HaN_OAR\n",
        "!cp \"/content/drive/MyDrive/data/Task1_HaN_OAR.zip\" \"/content/MedLSAM/config/data/Task1_HaN_OAR/\""
      ],
      "metadata": {
        "id": "0rQuGEPXFpgp"
      },
      "execution_count": null,
      "outputs": []
    },
    {
      "cell_type": "code",
      "source": [
        "%cd \"/content/MedLSAM/config/data/Task1_HaN_OAR/\"\n",
        "!unzip Task1_HaN_OAR.zip"
      ],
      "metadata": {
        "id": "hr8iJUPBGS9r"
      },
      "execution_count": null,
      "outputs": []
    },
    {
      "cell_type": "code",
      "source": [
        "!cp \"/content/drive/MyDrive/data/WORD-V0.1.0.zip\" \"/content/MedLSAM/config/data/WORD/\""
      ],
      "metadata": {
        "id": "wkiLg_pggViL"
      },
      "execution_count": null,
      "outputs": []
    },
    {
      "cell_type": "code",
      "source": [
        "%cd \"/content/MedLSAM/config/data/WORD/\"\n",
        "!7z x -pword@uestc WORD-V0.1.0.zip"
      ],
      "metadata": {
        "id": "R2PBA3RPlP8N"
      },
      "execution_count": null,
      "outputs": []
    },
    {
      "cell_type": "code",
      "source": [
        "!cp -a /content/MedLSAM/config/data/WORD/WORD-V0.1.0/. /content/MedLSAM/config/data/WORD/"
      ],
      "metadata": {
        "id": "ayqglDeMjIDC"
      },
      "execution_count": null,
      "outputs": []
    },
    {
      "cell_type": "code",
      "source": [
        "!rm -rf \"/content/MedLSAM/config/data/WORD/WORD-V0.1.0/\""
      ],
      "metadata": {
        "id": "PPPKxXSf-Cz_"
      },
      "execution_count": null,
      "outputs": []
    },
    {
      "cell_type": "markdown",
      "source": [
        "## Path correcting"
      ],
      "metadata": {
        "id": "f4fiXatSjJCb"
      }
    },
    {
      "cell_type": "code",
      "source": [
        "paths = [\"/content/MedLSAM/config/data/StructSeg_HaN/query_image.txt\"\n",
        "         , \"/content/MedLSAM/config/data/StructSeg_HaN/support_image.txt\"\n",
        "         , \"/content/MedLSAM/config/data/StructSeg_HaN/support_label.txt\"\n",
        "         , \"/content/MedLSAM/config/data/StructSeg_HaN/query_label.txt\"\n",
        "         , \"/content/MedLSAM/config/data/WORD/query_image.txt\"\n",
        "         , \"/content/MedLSAM/config/data/WORD/query_label.txt\"\n",
        "         , \"/content/MedLSAM/config/data/WORD/support_image.txt\"\n",
        "         , \"/content/MedLSAM/config/data/WORD/support_label.txt\" ]\n",
        "\n",
        "for s in paths:\n",
        "  with open(s , \"r\") as f:\n",
        "    lines = f.readlines()\n",
        "  lines = [\"/content/MedLSAM/config/\" + line for line in lines]\n",
        "  with open(s, \"w\") as f:\n",
        "    f.writelines(lines)"
      ],
      "metadata": {
        "id": "iDvXI40-Dw0m"
      },
      "execution_count": null,
      "outputs": []
    },
    {
      "cell_type": "code",
      "source": [
        "%cd \"/content/MedLSAM/\""
      ],
      "metadata": {
        "id": "tmLS4cYNchYF"
      },
      "execution_count": null,
      "outputs": []
    },
    {
      "cell_type": "code",
      "source": [
        "!CUDA_VISIBLE_DEVICES=0 python MedLAM_Inference.py --config_file config/test_config/test_structseg_medlam.txt"
      ],
      "metadata": {
        "id": "-DIbtXcOcHFf"
      },
      "execution_count": null,
      "outputs": []
    },
    {
      "cell_type": "code",
      "source": [
        "a = []\n",
        "while 1:\n",
        "    a.append(\"1\")"
      ],
      "metadata": {
        "id": "rwb1pRk85vHm"
      },
      "execution_count": null,
      "outputs": []
    },
    {
      "cell_type": "code",
      "source": [
        "!CUDA_VISIBLE_DEVICES=0 python MedLAM_Inference.py --config_file config/test_config/test_word_medlam.txt"
      ],
      "metadata": {
        "id": "pAT26qa_Fecy"
      },
      "execution_count": null,
      "outputs": []
    },
    {
      "cell_type": "code",
      "source": [
        "!CUDA_VISIBLE_DEVICES=0 python MedLSAM_Inference.py --config_file config/test_config/test_structseg_medlam_medsam.txt\n",
        "!CUDA_VISIBLE_DEVICES=0 python MedLSAM_Inference.py --config_file config/test_config/test_structseg_medlam_sam.txt"
      ],
      "metadata": {
        "id": "wCT8F_-jA8Jc"
      },
      "execution_count": null,
      "outputs": []
    },
    {
      "cell_type": "code",
      "source": [],
      "metadata": {
        "id": "CcqVui97FwKf"
      },
      "execution_count": null,
      "outputs": []
    }
  ],
  "metadata": {
    "colab": {
      "provenance": [],
      "gpuType": "T4"
    },
    "kernelspec": {
      "display_name": "Python 3",
      "name": "python3"
    },
    "language_info": {
      "name": "python"
    },
    "accelerator": "GPU"
  },
  "nbformat": 4,
  "nbformat_minor": 0
}